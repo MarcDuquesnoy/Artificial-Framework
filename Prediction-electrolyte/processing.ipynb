{
 "cells": [
  {
   "cell_type": "markdown",
   "metadata": {},
   "source": [
    "# Traitement des données issues de simulations LBM\n",
    "\n",
    "---------------------------------------------------\n",
    "Ce notebook rend compte du traitement numérique des données issues de structures non calendrées, afin de caractériser l'ensemble des pores de l'électrode grâce au comportement de la saturation. L'ensemble des données est issu de simulations $\\textit{LBM}$ pré-traité sous Python.\n",
    "\n",
    "------------------------------------------------------------\n",
    "<br>\n",
    "L'étude nécessite d'obtenir les caractéristiques des pores afin de pouvoir les comparer. Cette comparaison s'effectue sur l'ensemble de points clés de la courbes de saturation comme par exemple le temps de départ de remplissage du pores, et le temps final à partir duquel le pore ne se remplit plus."
   ]
  },
  {
   "cell_type": "markdown",
   "metadata": {},
   "source": [
    " "
   ]
  },
  {
   "cell_type": "markdown",
   "metadata": {},
   "source": [
    " "
   ]
  },
  {
   "cell_type": "markdown",
   "metadata": {},
   "source": [
    " "
   ]
  },
  {
   "cell_type": "markdown",
   "metadata": {},
   "source": [
    " "
   ]
  },
  {
   "cell_type": "markdown",
   "metadata": {},
   "source": [
    " "
   ]
  },
  {
   "cell_type": "markdown",
   "metadata": {},
   "source": [
    "##### Ressources Python"
   ]
  },
  {
   "cell_type": "code",
   "execution_count": 2,
   "metadata": {},
   "outputs": [],
   "source": [
    "import matplotlib.pyplot as plt\n",
    "import pandas as pd\n",
    "import numpy as np\n",
    "import warnings\n",
    "import pickle\n",
    "import os\n",
    "\n",
    "warnings.filterwarnings(\"ignore\")"
   ]
  },
  {
   "cell_type": "markdown",
   "metadata": {},
   "source": [
    " "
   ]
  },
  {
   "cell_type": "markdown",
   "metadata": {},
   "source": [
    "##### Chargement des données nécessaires\n",
    "\n",
    "Chaque simulation contient un nombre exhaustif de pores, dont chacun est caractérisé par une courbe de saturation. Pour chacune d'entre elle on récupère :\n",
    "- le temps de départ de remplissage $t_0$.\n",
    "- le temps de fin de remplissage $t_1$.\n",
    "- la vélocité du fluide pendant son remplissage $V_0$.\n",
    "- des caractéristiques propres aux données précédentes."
   ]
  },
  {
   "cell_type": "code",
   "execution_count": 24,
   "metadata": {},
   "outputs": [],
   "source": [
    "x = pd.DataFrame(columns=['Pressure','Pixels', 'NFace', 'NFace_c', 'Ratio', 'Centre'])\n",
    "for path in os.listdir('./données/'):\n",
    "    for file in os.listdir('./données/'+path+\"/\"):\n",
    "        \n",
    "        if 'velocity_per_pore' in file:\n",
    "            \n",
    "            with open('./données/'+path+\"/\"+file, 'rb') as f:\n",
    "                data = pickle.load(f)\n",
    "                \n",
    "            for col in range(data.shape[0]):\n",
    "                \n",
    "                x.loc[len(x)] = [float(path.split(\"press\")[1])] + data[[\"npx\", \"nface\", \"nface_c\",\n",
    "                                                      \"ratio\", \"centre\"]].iloc[col, :].tolist()"
   ]
  },
  {
   "cell_type": "markdown",
   "metadata": {},
   "source": [
    " "
   ]
  },
  {
   "cell_type": "code",
   "execution_count": 4,
   "metadata": {},
   "outputs": [],
   "source": [
    "Informations = []\n",
    "for path in os.listdir('./données/'):\n",
    "    for file in os.listdir('./données/'+path+\"/\"):\n",
    "        \n",
    "        if 'saturation' in file:\n",
    "                    \n",
    "            with open('./données/'+path+\"/\"+file, 'rb') as f:\n",
    "                saturation = pickle.load(f).iloc[:,1:]\n",
    "                \n",
    "            for col in range(saturation.shape[1]):\n",
    "                \n",
    "                t0=next((i for i,\n",
    "                         x in enumerate(saturation.iloc[:,col]) if abs(x-saturation.iloc[0,col]) >= 0.1),\n",
    "                        None)\n",
    "                t1=next((i for i, \n",
    "                         x in enumerate(saturation.iloc[:,col]) if abs(x-saturation.iloc[-1,col]) <= 0.05),None)\n",
    "                if saturation.iloc[-1,col] >= 0.99:\n",
    "                    out=1\n",
    "                else:\n",
    "                    out=0\n",
    "                    \n",
    "                try:\n",
    "                \n",
    "                    Informations.append([t0, t1, out, saturation.iloc[-1,col],\n",
    "                                     (saturation.iloc[t1,col] - saturation.iloc[t0,col]) / (t1-t0)])\n",
    "                except:\n",
    "                    \n",
    "                    Informations.append([t0, t1, out, saturation.iloc[-1,col], \"Error\"])\n",
    "                    \n",
    "Informations = pd.DataFrame(Informations)"
   ]
  },
  {
   "cell_type": "markdown",
   "metadata": {},
   "source": [
    "Au total , 7535 pores sont étudiés, et constituent les valeurs de la bases de données."
   ]
  },
  {
   "cell_type": "markdown",
   "metadata": {},
   "source": [
    " "
   ]
  },
  {
   "cell_type": "markdown",
   "metadata": {},
   "source": [
    " "
   ]
  },
  {
   "cell_type": "markdown",
   "metadata": {},
   "source": [
    "##### Analyse qualitative des données"
   ]
  },
  {
   "cell_type": "markdown",
   "metadata": {},
   "source": [
    "La distribution empirique permet de montrer le caractère hétérosédastique des variables."
   ]
  },
  {
   "cell_type": "code",
   "execution_count": 20,
   "metadata": {},
   "outputs": [
    {
     "data": {
      "image/png": "[encoded data removed]",
      "text/plain": [
       "<Figure size 720x576 with 1 Axes>"
      ]
     },
     "metadata": {
      "needs_background": "light"
     },
     "output_type": "display_data"
    }
   ],
   "source": [
    "plt.figure(figsize=(10, 8))\n",
    "ax = plt.gca()\n",
    "ax.set_facecolor('xkcd:light grey')\n",
    "_= plt.hist(Informations.iloc[:, 0], bins=150, color=\"mediumblue\", label=\"$t_0$\")\n",
    "plt.xlabel('Valeurs empiriques', fontsize=12, fontweight=\"bold\")\n",
    "plt.ylabel('Frequences', fontsize=12, fontweight=\"bold\")\n",
    "plt.legend(loc=\"upper right\", fontsize=12)\n",
    "plt.show()"
   ]
  },
  {
   "cell_type": "markdown",
   "metadata": {},
   "source": [
    " "
   ]
  },
  {
   "cell_type": "code",
   "execution_count": 21,
   "metadata": {},
   "outputs": [
    {
     "data": {
      "image/png": "[encoded data removed]",
      "text/plain": [
       "<Figure size 720x576 with 1 Axes>"
      ]
     },
     "metadata": {
      "needs_background": "light"
     },
     "output_type": "display_data"
    }
   ],
   "source": [
    "plt.figure(figsize=(10, 8))\n",
    "ax = plt.gca()\n",
    "ax.set_facecolor('xkcd:light grey')\n",
    "_= plt.hist(Informations.iloc[:, 1], bins=150, color=\"mediumblue\", label=\"$t_0$\")\n",
    "plt.xlabel('Valeurs empiriques', fontsize=12, fontweight=\"bold\")\n",
    "plt.ylabel('Frequences', fontsize=12, fontweight=\"bold\")\n",
    "plt.legend(loc=\"upper right\", fontsize=12)\n",
    "plt.show()"
   ]
  },
  {
   "cell_type": "markdown",
   "metadata": {},
   "source": [
    " "
   ]
  },
  {
   "cell_type": "markdown",
   "metadata": {},
   "source": [
    "##### Sauvegarde des données"
   ]
  },
  {
   "cell_type": "code",
   "execution_count": 27,
   "metadata": {},
   "outputs": [],
   "source": [
    "with open('./données/X.pkl', 'wb') as f:\n",
    "    pickle.dump(x, f)\n",
    "with open('./données/Y.pkl', 'wb') as f:\n",
    "    pickle.dump(Informations, f)"
   ]
  },
  {
   "cell_type": "markdown",
   "metadata": {},
   "source": [
    " "
   ]
  }
 ],
 "metadata": {
  "kernelspec": {
   "display_name": "Python 3",
   "language": "python",
   "name": "python3"
  },
  "language_info": {
   "codemirror_mode": {
    "name": "ipython",
    "version": 3
   },
   "file_extension": ".py",
   "mimetype": "text/x-python",
   "name": "python",
   "nbconvert_exporter": "python",
   "pygments_lexer": "ipython3",
   "version": "3.8.5"
  }
 },
 "nbformat": 4,
 "nbformat_minor": 4
}
